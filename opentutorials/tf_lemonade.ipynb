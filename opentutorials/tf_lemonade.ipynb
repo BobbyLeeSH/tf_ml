{
  "nbformat": 4,
  "nbformat_minor": 0,
  "metadata": {
    "colab": {
      "name": "tf_lemonade.ipynb",
      "provenance": [],
      "collapsed_sections": [],
      "authorship_tag": "ABX9TyM6fFKAEQeCUt/9fpWleWrQ",
      "include_colab_link": true
    },
    "kernelspec": {
      "name": "python3",
      "display_name": "Python 3"
    }
  },
  "cells": [
    {
      "cell_type": "markdown",
      "metadata": {
        "id": "view-in-github",
        "colab_type": "text"
      },
      "source": [
        "<a href=\"https://colab.research.google.com/github/BobbyLeeSH/ML_STUDY/blob/main/tf_lemonade.ipynb\" target=\"_parent\"><img src=\"https://colab.research.google.com/assets/colab-badge.svg\" alt=\"Open In Colab\"/></a>"
      ]
    },
    {
      "cell_type": "markdown",
      "metadata": {
        "id": "UMFCGAxeXhHM"
      },
      "source": [
        "# 생활코딩 tensorflow 101 수업을 들으면서 따라해보는 코드입니다.\n",
        "## Lemonade sales prediction"
      ]
    },
    {
      "cell_type": "markdown",
      "metadata": {
        "id": "2G3rceTEZcsL"
      },
      "source": [
        "# Import pandas and tensorflow"
      ]
    },
    {
      "cell_type": "code",
      "metadata": {
        "id": "4hhTPcutXdVq"
      },
      "source": [
        "import pandas as pd\n",
        "import tensorflow as tf"
      ],
      "execution_count": null,
      "outputs": []
    },
    {
      "cell_type": "code",
      "metadata": {
        "colab": {
          "base_uri": "https://localhost:8080/"
        },
        "id": "2VWxlvRQZsmo",
        "outputId": "6e5a3393-1b09-454d-d8dc-f150c29908e9"
      },
      "source": [
        "# read data\n",
        "data_path = 'https://raw.githubusercontent.com/blackdew/tensorflow1/master/csv/lemonade.csv'\n",
        "lemonade = pd.read_csv(data_path)\n",
        "\n",
        "print(lemonade.head())\n",
        "print(lemonade.shape)\n",
        "print(lemonade.columns)"
      ],
      "execution_count": null,
      "outputs": [
        {
          "output_type": "stream",
          "text": [
            "   온도  판매량\n",
            "0  20   40\n",
            "1  21   42\n",
            "2  22   44\n",
            "3  23   46\n",
            "4  24   48\n",
            "(6, 2)\n",
            "Index(['온도', '판매량'], dtype='object')\n"
          ],
          "name": "stdout"
        }
      ]
    },
    {
      "cell_type": "code",
      "metadata": {
        "id": "d4v9Ar_-aRY4"
      },
      "source": [
        "# separate features and label\n",
        "feature = lemonade[['온도']]\n",
        "label = lemonade[['판매량']]"
      ],
      "execution_count": null,
      "outputs": []
    },
    {
      "cell_type": "code",
      "metadata": {
        "id": "3Eqrxe4SaoCs"
      },
      "source": [
        "# build model using Neural Network\n",
        "X = tf.keras.layers.Input(shape=[1])\n",
        "Y = tf.keras.layers.Dense(1)(X)\n",
        "model = tf.keras.models.Model(X,Y)\n",
        "model.compile(loss='mse')"
      ],
      "execution_count": null,
      "outputs": []
    },
    {
      "cell_type": "markdown",
      "metadata": {
        "id": "spnaZAw5fYPe"
      },
      "source": [
        "\n",
        "```\n",
        "X = tf.keras.layers.Input(shape=[1])\n",
        "```\n",
        "means we are using one Feature\n",
        "\n",
        "\n",
        "```\n",
        "Y = tf.keras.layers.Dense(1)(X)\n",
        "```\n",
        "means we are using one Label"
      ]
    },
    {
      "cell_type": "code",
      "metadata": {
        "colab": {
          "base_uri": "https://localhost:8080/"
        },
        "id": "01wpa3Avas9K",
        "outputId": "a8ca0daf-5ff5-4303-fe6b-18af54b69232"
      },
      "source": [
        "model.fit(feature, label, epochs=1000, verbose=0)\n",
        "model.fit(feature, label, epochs=10)"
      ],
      "execution_count": null,
      "outputs": [
        {
          "output_type": "stream",
          "text": [
            "Epoch 1/10\n",
            "1/1 [==============================] - 0s 4ms/step - loss: 0.0040\n",
            "Epoch 2/10\n",
            "1/1 [==============================] - 0s 3ms/step - loss: 0.0041\n",
            "Epoch 3/10\n",
            "1/1 [==============================] - 0s 3ms/step - loss: 0.0041\n",
            "Epoch 4/10\n",
            "1/1 [==============================] - 0s 4ms/step - loss: 0.0041\n",
            "Epoch 5/10\n",
            "1/1 [==============================] - 0s 5ms/step - loss: 0.0041\n",
            "Epoch 6/10\n",
            "1/1 [==============================] - 0s 4ms/step - loss: 0.0041\n",
            "Epoch 7/10\n",
            "1/1 [==============================] - 0s 4ms/step - loss: 0.0041\n",
            "Epoch 8/10\n",
            "1/1 [==============================] - 0s 4ms/step - loss: 0.0040\n",
            "Epoch 9/10\n",
            "1/1 [==============================] - 0s 3ms/step - loss: 0.0040\n",
            "Epoch 10/10\n",
            "1/1 [==============================] - 0s 4ms/step - loss: 0.0040\n"
          ],
          "name": "stdout"
        },
        {
          "output_type": "execute_result",
          "data": {
            "text/plain": [
              "<tensorflow.python.keras.callbacks.History at 0x7f44314681d0>"
            ]
          },
          "metadata": {
            "tags": []
          },
          "execution_count": 23
        }
      ]
    },
    {
      "cell_type": "code",
      "metadata": {
        "colab": {
          "base_uri": "https://localhost:8080/"
        },
        "id": "jC9Fe36YeKSb",
        "outputId": "3a8f11a3-ce5f-4ee0-c477-36b2550726f3"
      },
      "source": [
        "# use model to predict\n",
        "print(model.predict([[15]]))"
      ],
      "execution_count": null,
      "outputs": [
        {
          "output_type": "stream",
          "text": [
            "[[30.284992]]\n"
          ],
          "name": "stdout"
        }
      ]
    },
    {
      "cell_type": "markdown",
      "metadata": {
        "id": "9NqTPVIZfJO1"
      },
      "source": [
        "### it is predicted that 30.284992 lemonade will be sold if the temperature is 15 degree celcius"
      ]
    }
  ]
}