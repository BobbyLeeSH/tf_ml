{
  "nbformat": 4,
  "nbformat_minor": 0,
  "metadata": {
    "colab": {
      "name": "tf_boston_housing_price.ipynb",
      "provenance": [],
      "collapsed_sections": [],
      "authorship_tag": "ABX9TyOhzJaktOgv2h9rro8c4SUa",
      "include_colab_link": true
    },
    "kernelspec": {
      "name": "python3",
      "display_name": "Python 3"
    }
  },
  "cells": [
    {
      "cell_type": "markdown",
      "metadata": {
        "id": "view-in-github",
        "colab_type": "text"
      },
      "source": [
        "<a href=\"https://colab.research.google.com/github/BobbyLeeSH/ML_STUDY/blob/main/tf_boston_housing_price.ipynb\" target=\"_parent\"><img src=\"https://colab.research.google.com/assets/colab-badge.svg\" alt=\"Open In Colab\"/></a>"
      ]
    },
    {
      "cell_type": "markdown",
      "metadata": {
        "id": "IGq_pVF_kTKU"
      },
      "source": [
        "# Boston housing price prediction\n",
        "*   used multiple Features and one Label\n",
        "\n"
      ]
    },
    {
      "cell_type": "code",
      "metadata": {
        "id": "4hD6uQW9kN_2"
      },
      "source": [
        "# import libraries\n",
        "import tensorflow as tf\n",
        "import pandas as pd"
      ],
      "execution_count": 1,
      "outputs": []
    },
    {
      "cell_type": "code",
      "metadata": {
        "colab": {
          "base_uri": "https://localhost:8080/"
        },
        "id": "ECw9gr6xlGbM",
        "outputId": "1c8b7dd1-88d5-49c6-89c4-09617861ae2e"
      },
      "source": [
        "# read data\n",
        "data_path = 'https://raw.githubusercontent.com/blackdew/tensorflow1/master/csv/boston.csv'\n",
        "boston_house = pd.read_csv(data_path)\n",
        "print(boston_house.columns)\n",
        "print(boston_house.head())"
      ],
      "execution_count": 2,
      "outputs": [
        {
          "output_type": "stream",
          "text": [
            "Index(['crim', 'zn', 'indus', 'chas', 'nox', 'rm', 'age', 'dis', 'rad', 'tax',\n",
            "       'ptratio', 'b', 'lstat', 'medv'],\n",
            "      dtype='object')\n",
            "      crim    zn  indus  chas    nox  ...  tax  ptratio       b  lstat  medv\n",
            "0  0.00632  18.0   2.31     0  0.538  ...  296     15.3  396.90   4.98  24.0\n",
            "1  0.02731   0.0   7.07     0  0.469  ...  242     17.8  396.90   9.14  21.6\n",
            "2  0.02729   0.0   7.07     0  0.469  ...  242     17.8  392.83   4.03  34.7\n",
            "3  0.03237   0.0   2.18     0  0.458  ...  222     18.7  394.63   2.94  33.4\n",
            "4  0.06905   0.0   2.18     0  0.458  ...  222     18.7  396.90   5.33  36.2\n",
            "\n",
            "[5 rows x 14 columns]\n"
          ],
          "name": "stdout"
        }
      ]
    },
    {
      "cell_type": "code",
      "metadata": {
        "colab": {
          "base_uri": "https://localhost:8080/"
        },
        "id": "2_8tTO7MlO_f",
        "outputId": "1cfbe1a1-c148-4c9d-c656-dbfe1e4ab5c9"
      },
      "source": [
        "# prepare Features and Label\n",
        "Feature = boston_house[['crim', 'zn', 'indus', 'chas', 'nox', 'rm', 'age', 'dis', 'rad', 'tax',\n",
        "            'ptratio', 'b', 'lstat']]\n",
        "Label = boston_house[['medv']]\n",
        "print(Feature.shape, Label.shape)"
      ],
      "execution_count": 3,
      "outputs": [
        {
          "output_type": "stream",
          "text": [
            "(506, 13) (506, 1)\n"
          ],
          "name": "stdout"
        }
      ]
    },
    {
      "cell_type": "code",
      "metadata": {
        "id": "OlvlwbOwlX8t"
      },
      "source": [
        "# create model\n",
        "X = tf.keras.layers.Input(shape=[13])\n",
        "Y = tf.keras.layers.Dense(1)(X)\n",
        "model = tf.keras.models.Model(X, Y)\n",
        "model.compile(loss='mse')"
      ],
      "execution_count": 4,
      "outputs": []
    },
    {
      "cell_type": "markdown",
      "metadata": {
        "id": "dNhiv6z5lgaU"
      },
      "source": [
        "```\n",
        "X = tf.keras.layers.Input(shape=[13])\n",
        "```\n",
        "means we have 13 Features\n",
        "```\n",
        "Y = tf.keras.layers.Dense(1)(X)\n",
        "```\n",
        "means we have 1 Label"
      ]
    },
    {
      "cell_type": "code",
      "metadata": {
        "colab": {
          "base_uri": "https://localhost:8080/"
        },
        "id": "ikN_jds1lfpP",
        "outputId": "bdb95fee-5478-4798-fb82-b38fb03648c8"
      },
      "source": [
        "# make model learn\n",
        "model.fit(Feature, Label, epochs=1000, verbose=0)\n",
        "model.fit(Feature, Label, epochs=10)"
      ],
      "execution_count": 5,
      "outputs": [
        {
          "output_type": "stream",
          "text": [
            "Epoch 1/10\n",
            "16/16 [==============================] - 0s 1ms/step - loss: 25.2188\n",
            "Epoch 2/10\n",
            "16/16 [==============================] - 0s 1ms/step - loss: 25.9117\n",
            "Epoch 3/10\n",
            "16/16 [==============================] - 0s 1ms/step - loss: 25.9342\n",
            "Epoch 4/10\n",
            "16/16 [==============================] - 0s 1ms/step - loss: 26.7771\n",
            "Epoch 5/10\n",
            "16/16 [==============================] - 0s 1ms/step - loss: 25.8732\n",
            "Epoch 6/10\n",
            "16/16 [==============================] - 0s 1ms/step - loss: 26.0076\n",
            "Epoch 7/10\n",
            "16/16 [==============================] - 0s 1ms/step - loss: 25.8115\n",
            "Epoch 8/10\n",
            "16/16 [==============================] - 0s 1ms/step - loss: 25.4767\n",
            "Epoch 9/10\n",
            "16/16 [==============================] - 0s 1ms/step - loss: 26.1026\n",
            "Epoch 10/10\n",
            "16/16 [==============================] - 0s 1ms/step - loss: 25.8519\n"
          ],
          "name": "stdout"
        },
        {
          "output_type": "execute_result",
          "data": {
            "text/plain": [
              "<tensorflow.python.keras.callbacks.History at 0x7f35476b9390>"
            ]
          },
          "metadata": {
            "tags": []
          },
          "execution_count": 5
        }
      ]
    },
    {
      "cell_type": "markdown",
      "metadata": {
        "id": "_uvqYpX8mEY2"
      },
      "source": [
        "The loss is about 25. It is not very small but just going to proceed for now."
      ]
    },
    {
      "cell_type": "code",
      "metadata": {
        "colab": {
          "base_uri": "https://localhost:8080/"
        },
        "id": "GXlwW7_hl64P",
        "outputId": "85608300-e8dc-4ce3-8ef4-73d9e7a92850"
      },
      "source": [
        "# use model to predict\n",
        "print(model.predict(Feature[5:10]))\n",
        "# check actual value\n",
        "print(Label[5:10])"
      ],
      "execution_count": 6,
      "outputs": [
        {
          "output_type": "stream",
          "text": [
            "[[25.251286]\n",
            " [20.26018 ]\n",
            " [17.200022]\n",
            " [ 8.637621]\n",
            " [16.832586]]\n",
            "   medv\n",
            "5  28.7\n",
            "6  22.9\n",
            "7  27.1\n",
            "8  16.5\n",
            "9  18.9\n"
          ],
          "name": "stdout"
        }
      ]
    },
    {
      "cell_type": "markdown",
      "metadata": {
        "id": "_jfffOUcmWar"
      },
      "source": [
        "got some numbers but they are not very accuarate"
      ]
    },
    {
      "cell_type": "code",
      "metadata": {
        "colab": {
          "base_uri": "https://localhost:8080/"
        },
        "id": "sxN0dBjImTSG",
        "outputId": "8c7d5907-ec2e-4f4c-a78f-d63ca0c16bcb"
      },
      "source": [
        "# check the wights of model\n",
        "print(model.get_weights())"
      ],
      "execution_count": 7,
      "outputs": [
        {
          "output_type": "stream",
          "text": [
            "[array([[-0.08624001],\n",
            "       [ 0.06819403],\n",
            "       [-0.04587352],\n",
            "       [ 3.122158  ],\n",
            "       [ 1.5414774 ],\n",
            "       [ 4.1717243 ],\n",
            "       [ 0.01304522],\n",
            "       [-0.84500825],\n",
            "       [ 0.15643694],\n",
            "       [-0.01071614],\n",
            "       [-0.06754363],\n",
            "       [ 0.0144692 ],\n",
            "       [-0.5650111 ]], dtype=float32), array([2.5943835], dtype=float32)]\n"
          ],
          "name": "stdout"
        }
      ]
    },
    {
      "cell_type": "markdown",
      "metadata": {
        "id": "pnsIWBFfmsIj"
      },
      "source": [
        "# had done some basic work on Tensorflow and Neural Network Algorithm"
      ]
    },
    {
      "cell_type": "code",
      "metadata": {
        "id": "uRPXCk5pmdHC"
      },
      "source": [
        ""
      ],
      "execution_count": null,
      "outputs": []
    }
  ]
}