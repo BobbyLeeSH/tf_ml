{
  "nbformat": 4,
  "nbformat_minor": 0,
  "metadata": {
    "colab": {
      "name": "tf_iris_species.ipynb",
      "provenance": [],
      "collapsed_sections": [],
      "authorship_tag": "ABX9TyO7yUkElqDTeWB20NoqZVCX",
      "include_colab_link": true
    },
    "kernelspec": {
      "name": "python3",
      "display_name": "Python 3"
    }
  },
  "cells": [
    {
      "cell_type": "markdown",
      "metadata": {
        "id": "view-in-github",
        "colab_type": "text"
      },
      "source": [
        "<a href=\"https://colab.research.google.com/github/BobbyLeeSH/ML_STUDY/blob/main/tf_iris_species.ipynb\" target=\"_parent\"><img src=\"https://colab.research.google.com/assets/colab-badge.svg\" alt=\"Open In Colab\"/></a>"
      ]
    },
    {
      "cell_type": "markdown",
      "metadata": {
        "id": "CwjCFOl0NlsD"
      },
      "source": [
        "# Classification of Iris Species"
      ]
    },
    {
      "cell_type": "code",
      "metadata": {
        "id": "x-ZftxQMMbHZ"
      },
      "source": [
        "# Import Libraries\n",
        "import tensorflow as tf\n",
        "import pandas as pd"
      ],
      "execution_count": 1,
      "outputs": []
    },
    {
      "cell_type": "code",
      "metadata": {
        "colab": {
          "base_uri": "https://localhost:8080/"
        },
        "id": "Tr8BrtdFcD7n",
        "outputId": "05d24dfc-332f-429e-9736-ded883322e8a"
      },
      "source": [
        "# get data\n",
        "data_path = 'https://raw.githubusercontent.com/blackdew/tensorflow1/master/csv/iris.csv'\n",
        "iris = pd.read_csv(data_path)\n",
        "print(iris.head())"
      ],
      "execution_count": 2,
      "outputs": [
        {
          "output_type": "stream",
          "text": [
            "   꽃잎길이  꽃잎폭  꽃받침길이  꽃받침폭      품종\n",
            "0   5.1  3.5    1.4   0.2  setosa\n",
            "1   4.9  3.0    1.4   0.2  setosa\n",
            "2   4.7  3.2    1.3   0.2  setosa\n",
            "3   4.6  3.1    1.5   0.2  setosa\n",
            "4   5.0  3.6    1.4   0.2  setosa\n"
          ],
          "name": "stdout"
        }
      ]
    },
    {
      "cell_type": "code",
      "metadata": {
        "id": "s_i0oA-_cNsH"
      },
      "source": [
        "# one-hot encoding\n",
        "# to make the categorial column into columns of 1 and 0\n",
        "iris = pd.get_dummies(iris)"
      ],
      "execution_count": 3,
      "outputs": []
    },
    {
      "cell_type": "code",
      "metadata": {
        "colab": {
          "base_uri": "https://localhost:8080/"
        },
        "id": "1ZqMB_VZcawe",
        "outputId": "9be41004-590d-4c1d-d70c-6f29fa5c18be"
      },
      "source": [
        "# Features, Labels\n",
        "Features = iris[['꽃잎길이', '꽃잎폭', '꽃받침길이', '꽃받침폭']]\n",
        "Labels = iris[['품종_setosa', '품종_versicolor', '품종_virginica']]\n",
        "print(Features.shape, Labels.shape)"
      ],
      "execution_count": 4,
      "outputs": [
        {
          "output_type": "stream",
          "text": [
            "(150, 4) (150, 3)\n"
          ],
          "name": "stdout"
        }
      ]
    },
    {
      "cell_type": "code",
      "metadata": {
        "id": "0Ov5xdQMckIF"
      },
      "source": [
        "# model structure\n",
        "X = tf.keras.layers.Input(shape=[4])\n",
        "Y = tf.keras.layers.Dense(3, activation='softmax')(X)\n",
        "model = tf.keras.models.Model(X, Y)\n",
        "model.compile(loss='categorical_crossentropy', metrics='accuracy')"
      ],
      "execution_count": 6,
      "outputs": []
    },
    {
      "cell_type": "markdown",
      "metadata": {
        "id": "0SRfIFU7cvmK"
      },
      "source": [
        "```\n",
        "X = tf.keras.layers.Input(shape=[4])\n",
        "```\n",
        "means we have 4 Features\n",
        "```\n",
        "Y = tf.keras.layers.Dense(3, activation='softmax')(X)\n",
        "```\n",
        "means we have 3 Labels and use softmax as activation\n",
        "```\n",
        "model.compile(loss='categorical_crossentropy', metrics='accuracy')\n",
        "```\n",
        "means categorical crossentropy will be used for loss calculation and accuracy will be shown together with loss.\n"
      ]
    },
    {
      "cell_type": "code",
      "metadata": {
        "colab": {
          "base_uri": "https://localhost:8080/"
        },
        "id": "U-J1QeunctjX",
        "outputId": "63fcaba6-a253-4b2f-ddd0-f37727e7fbba"
      },
      "source": [
        "# Fit model\n",
        "model.fit(Features, Labels, epochs=1000, verbose=0)\n",
        "model.fit(Features, Labels, epochs=10)"
      ],
      "execution_count": 7,
      "outputs": [
        {
          "output_type": "stream",
          "text": [
            "Epoch 1/10\n",
            "5/5 [==============================] - 0s 3ms/step - loss: 0.1525 - accuracy: 0.9800\n",
            "Epoch 2/10\n",
            "5/5 [==============================] - 0s 2ms/step - loss: 0.1525 - accuracy: 0.9733\n",
            "Epoch 3/10\n",
            "5/5 [==============================] - 0s 2ms/step - loss: 0.1521 - accuracy: 0.9733\n",
            "Epoch 4/10\n",
            "5/5 [==============================] - 0s 2ms/step - loss: 0.1523 - accuracy: 0.9733\n",
            "Epoch 5/10\n",
            "5/5 [==============================] - 0s 2ms/step - loss: 0.1524 - accuracy: 0.9733\n",
            "Epoch 6/10\n",
            "5/5 [==============================] - 0s 2ms/step - loss: 0.1517 - accuracy: 0.9733\n",
            "Epoch 7/10\n",
            "5/5 [==============================] - 0s 2ms/step - loss: 0.1517 - accuracy: 0.9733\n",
            "Epoch 8/10\n",
            "5/5 [==============================] - 0s 2ms/step - loss: 0.1516 - accuracy: 0.9733\n",
            "Epoch 9/10\n",
            "5/5 [==============================] - 0s 2ms/step - loss: 0.1518 - accuracy: 0.9800\n",
            "Epoch 10/10\n",
            "5/5 [==============================] - 0s 2ms/step - loss: 0.1512 - accuracy: 0.9733\n"
          ],
          "name": "stdout"
        },
        {
          "output_type": "execute_result",
          "data": {
            "text/plain": [
              "<tensorflow.python.keras.callbacks.History at 0x7f9be8a12278>"
            ]
          },
          "metadata": {
            "tags": []
          },
          "execution_count": 7
        }
      ]
    },
    {
      "cell_type": "code",
      "metadata": {
        "colab": {
          "base_uri": "https://localhost:8080/"
        },
        "id": "XccT05VKdSNq",
        "outputId": "e8580b6f-edab-473a-f2e0-a5e66bc99cd5"
      },
      "source": [
        "# use model for predcition\n",
        "# first 5 rows\n",
        "print(model.predict(Features[:5]))\n",
        "print(Labels[:5])\n",
        " \n",
        "# last 5 rows\n",
        "print(model.predict(Features[-5:]))\n",
        "print(Labels[-5:])"
      ],
      "execution_count": 8,
      "outputs": [
        {
          "output_type": "stream",
          "text": [
            "[[9.9923658e-01 7.6345931e-04 4.1752468e-08]\n",
            " [9.9689388e-01 3.1057489e-03 3.6941680e-07]\n",
            " [9.9848878e-01 1.5110773e-03 1.6159881e-07]\n",
            " [9.9616784e-01 3.8314506e-03 7.2481311e-07]\n",
            " [9.9937868e-01 6.2133273e-04 3.5036429e-08]]\n",
            "   품종_setosa  품종_versicolor  품종_virginica\n",
            "0          1              0             0\n",
            "1          1              0             0\n",
            "2          1              0             0\n",
            "3          1              0             0\n",
            "4          1              0             0\n",
            "[[3.9145900e-07 1.2395742e-01 8.7604225e-01]\n",
            " [1.1594639e-06 2.0966819e-01 7.9033071e-01]\n",
            " [1.9247286e-06 2.2808149e-01 7.7191657e-01]\n",
            " [2.6709768e-07 7.2689369e-02 9.2731035e-01]\n",
            " [4.0529280e-06 2.3491289e-01 7.6508307e-01]]\n",
            "     품종_setosa  품종_versicolor  품종_virginica\n",
            "145          0              0             1\n",
            "146          0              0             1\n",
            "147          0              0             1\n",
            "148          0              0             1\n",
            "149          0              0             1\n"
          ],
          "name": "stdout"
        }
      ]
    },
    {
      "cell_type": "code",
      "metadata": {
        "colab": {
          "base_uri": "https://localhost:8080/"
        },
        "id": "M4enkoBkdfxJ",
        "outputId": "7657ccac-832b-4b87-a4d4-601fb336c13e"
      },
      "source": [
        "# check weights and bias of the model\n",
        "model.get_weights()"
      ],
      "execution_count": 10,
      "outputs": [
        {
          "output_type": "execute_result",
          "data": {
            "text/plain": [
              "[array([[ 1.2918826e+00,  7.5642544e-01, -5.7233703e-01],\n",
              "        [ 3.6206326e+00,  1.0238199e+00,  1.2898205e-03],\n",
              "        [-3.8719134e+00, -7.7431315e-01,  9.0192389e-01],\n",
              "        [-4.5241518e+00, -8.9086664e-01,  2.4493182e+00]], dtype=float32),\n",
              " array([ 1.6622401,  1.2417322, -1.2313501], dtype=float32)]"
            ]
          },
          "metadata": {
            "tags": []
          },
          "execution_count": 10
        }
      ]
    },
    {
      "cell_type": "markdown",
      "metadata": {
        "id": "OF9rHvONeTGU"
      },
      "source": [
        "# Have done some prediction on classification with one-hot encoding and softmax activation"
      ]
    }
  ]
}